{
 "cells": [
  {
   "cell_type": "code",
   "execution_count": 26,
   "metadata": {},
   "outputs": [],
   "source": [
    "import os\n",
    "import cv2\n",
    "import tensorflow\n",
    "os.environ[\"CUDA_VISIBLE_DEVICES\"] = \"-1\"\n",
    "from PIL import Image"
   ]
  },
  {
   "cell_type": "code",
   "execution_count": 27,
   "metadata": {},
   "outputs": [],
   "source": [
    "import keras\n",
    "from keras.models import load_model\n",
    "import numpy as np\n",
    "import matplotlib.pyplot as plt\n",
    "from tensorflow.compat.v1 import ConfigProto\n",
    "from tensorflow.compat.v1 import InteractiveSession\n",
    "%matplotlib inline\n",
    "\n"
   ]
  },
  {
   "cell_type": "code",
   "execution_count": 28,
   "metadata": {},
   "outputs": [],
   "source": [
    "img = cv2.imread('../data/processed/test/class_2/00000001.jpg')"
   ]
  },
  {
   "cell_type": "code",
   "execution_count": 29,
   "metadata": {},
   "outputs": [],
   "source": [
    "model=load_model('../saved_models/trained.h5')"
   ]
  },
  {
   "cell_type": "code",
   "execution_count": 42,
   "metadata": {},
   "outputs": [],
   "source": [
    "def pred(img):\n",
    "    load_img = cv2.imread(img)\n",
    "    load_img=cv2.resize(np.float32(load_img),(225,225))\n",
    "    imgg = np.array(load_img)\n",
    "    imgg = np.expand_dims(imgg, axis = 0)\n",
    "    pred = model.predict(imgg)\n",
    "    #pred = pred[0]\n",
    "    pred = np.argmax(pred)\n",
    "    return pred"
   ]
  },
  {
   "cell_type": "code",
   "execution_count": 43,
   "metadata": {},
   "outputs": [
    {
     "ename": "TypeError",
     "evalue": "Can't convert object to 'str' for 'filename'",
     "output_type": "error",
     "traceback": [
      "\u001b[1;31m---------------------------------------------------------------------------\u001b[0m",
      "\u001b[1;31mTypeError\u001b[0m                                 Traceback (most recent call last)",
      "Cell \u001b[1;32mIn [43], line 1\u001b[0m\n\u001b[1;32m----> 1\u001b[0m pred(img)\n",
      "Cell \u001b[1;32mIn [42], line 2\u001b[0m, in \u001b[0;36mpred\u001b[1;34m(img)\u001b[0m\n\u001b[0;32m      1\u001b[0m \u001b[39mdef\u001b[39;00m \u001b[39mpred\u001b[39m(img):\n\u001b[1;32m----> 2\u001b[0m     load_img \u001b[39m=\u001b[39m cv2\u001b[39m.\u001b[39;49mimread(img)\n\u001b[0;32m      3\u001b[0m     load_img\u001b[39m=\u001b[39mcv2\u001b[39m.\u001b[39mresize(np\u001b[39m.\u001b[39mfloat32(load_img),(\u001b[39m225\u001b[39m,\u001b[39m225\u001b[39m))\n\u001b[0;32m      4\u001b[0m     imgg \u001b[39m=\u001b[39m np\u001b[39m.\u001b[39marray(load_img)\n",
      "\u001b[1;31mTypeError\u001b[0m: Can't convert object to 'str' for 'filename'"
     ]
    }
   ],
   "source": [
    "pred(img)"
   ]
  },
  {
   "cell_type": "code",
   "execution_count": 32,
   "metadata": {},
   "outputs": [
    {
     "name": "stdout",
     "output_type": "stream",
     "text": [
      "None\n"
     ]
    }
   ],
   "source": []
  },
  {
   "cell_type": "code",
   "execution_count": null,
   "metadata": {},
   "outputs": [],
   "source": []
  }
 ],
 "metadata": {
  "kernelspec": {
   "display_name": "Python 3.10.7 64-bit",
   "language": "python",
   "name": "python3"
  },
  "language_info": {
   "codemirror_mode": {
    "name": "ipython",
    "version": 3
   },
   "file_extension": ".py",
   "mimetype": "text/x-python",
   "name": "python",
   "nbconvert_exporter": "python",
   "pygments_lexer": "ipython3",
   "version": "3.10.7"
  },
  "orig_nbformat": 4,
  "vscode": {
   "interpreter": {
    "hash": "b5e9a502983b70666d1952e1c8924a42f20757001f53eb2ab21cf5f2b581023c"
   }
  }
 },
 "nbformat": 4,
 "nbformat_minor": 2
}
